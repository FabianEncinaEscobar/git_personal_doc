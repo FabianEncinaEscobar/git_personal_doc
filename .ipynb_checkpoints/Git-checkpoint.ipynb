{
 "cells": [
  {
   "cell_type": "markdown",
   "metadata": {},
   "source": [
    "# GIT"
   ]
  },
  {
   "cell_type": "markdown",
   "metadata": {},
   "source": [
    "## Índice\n",
    "\n",
    "1. [git init](#id1)\n",
    "2. [git config](#id2)\n",
    "3. [git add](#id3)\n",
    "4. [git commit](#id4)\n",
    "5. [git branch](#id5)\n",
    "6. [git merge](#id6)\n",
    "7. [git checkout](#id7)\n",
    "8. [git remote](#id8)\n",
    "9. [git clone](#id9)\n",
    "10. [git fetch/pull](#id10)\n",
    "11. [git push](#id11)\n",
    "12. [git status](#id12)\n",
    "13. [git log](#id13)\n",
    "14. [git tag](#id14)\n",
    "15. [git diff](#id15)\n",
    "16. [git mv/rm](#id16)\n",
    "17. [git .ignore](#id17)\n",
    "18. [git version](#id18)\n",
    "19. [git stash](#id19)\n",
    "20. [git reset](#id20)\n",
    "21. [git rebase](#id21)\n",
    "22. [git help](#id22)"
   ]
  },
  {
   "cell_type": "markdown",
   "metadata": {},
   "source": [
    "## Git init<a name=\"id1\"></a>\n",
    "Sirve para inicializar sistema archivo git en la ruta\n",
    "\n",
    "1.- `cd /path/to/your/existing/code\n",
    "    git init`\n",
    "\n",
    "2.- `git init <project directory>`"
   ]
  },
  {
   "cell_type": "markdown",
   "metadata": {},
   "source": [
    "## Git config<a name=\"id2\"></a>\n",
    "#### Configura información de usuario\n",
    "- `git config --global user.name <name>`\n",
    "- `git config --local user.email <email>`\n",
    "- `git config --global --edit`\n",
    "- `git config --global -e`\n",
    "- `git config --system core.editor <editor>` \n",
    "\n",
    "#### Configuración de alias\n",
    "- `git config --global alias.<alias-name> <git-command>`\n",
    "- `git config --global alias.st status`\n",
    "- `git config --global alias.co checkout`\n",
    "- `git config --global alias.br branch`\n",
    "- `git config --global alias.up rebase`\n",
    "- `git config --global alias.ci commit`\n",
    "- `git --global alias.lg “log --online --decore --all -- graph”`\n",
    "- `git status config --global alias.s “status -s -b”`"
   ]
  },
  {
   "cell_type": "markdown",
   "metadata": {},
   "source": [
    "## Git add<a name=\"id3\"></a>\n",
    "Agrega al stage los archivos indicados\n",
    "\n",
    "- `git add <archive.py>`\n",
    "- `git add --all`\n",
    "- `git add .`\n",
    "- `git add -u`\n",
    "- `git add -A`\n",
    "- `git add *.png`\n",
    "- `git add <nombre_carpeta/>`\n"
   ]
  },
  {
   "cell_type": "markdown",
   "metadata": {},
   "source": [
    "## Git commit<a name=\"id4\"></a>\n",
    "Se agregan los archivos del stage al repositorio\n",
    "\n",
    "- `git commit -m “<Se creo el archivo.py>”`\n",
    "- `git commit --amend -m “<Actualizamos el readme.md>”`\n",
    "- `git commit –am “<Se actualiza el archivo.txt>”`\n",
    "- `git commit`\n",
    "-  `git add <archivo_olvidado>`\n",
    "-  `git commit --amend --no-edit`\n",
    "\n",
    "<img src=\"mensaje_ideal_commit.png\"\n",
    "     alt=\"Markdown Monster icon\"\n",
    "     style=\"float: left; margin-right: 10px;\" />\n"
   ]
  },
  {
   "cell_type": "markdown",
   "metadata": {},
   "source": [
    "## Git branch<a name=\"id5\"></a>\n",
    "- `git branch`\n",
    "- `git branch <rama-name>`\n",
    "- `git branch <ramas_remotas> -a`\n",
    "- `git branch -D <rama-develop-borrar>`"
   ]
  },
  {
   "cell_type": "markdown",
   "metadata": {},
   "source": [
    "## Git merge<a name=\"id6\"></a>\n",
    "Une los commits de una rama a otra rama\n",
    "- `git merge <branch-name>`"
   ]
  },
  {
   "cell_type": "markdown",
   "metadata": {},
   "source": [
    "## Git checkout<a name=\"id7\"></a>\n",
    "Sirve para cambiar de rama o revertir cambios en archivos del ultimo commit.\n",
    "\n",
    "#### Cambiar rama\n",
    "\n",
    "- `git checkout -b <NombreDeBranch>`\n",
    "- `git checkout <NombreDeBranch>`\n",
    "\n",
    "#### Revertir cambios en archivos\n",
    "\n",
    "- `git checkout -- <README.md>`\n",
    "- `git check out -- .`"
   ]
  },
  {
   "cell_type": "markdown",
   "metadata": {},
   "source": [
    "## Git remote<a name=\"id8\"></a>\n",
    "- `git remote add <remote_name> <remote_repo_url>`\n",
    "- `git remote add <origin> <https://github.com/FabianEncinaEscobar/prueba-1.git>`\n",
    "- `git remote –v`\n",
    "- `Git remote add <nameRepository> <https://github.com/nameRe>`\n",
    "- `git remote remove origin`\n"
   ]
  },
  {
   "cell_type": "markdown",
   "metadata": {},
   "source": [
    "## Git clone<a name=\"id9\"></a>\n",
    "`git clone <repo url>`"
   ]
  },
  {
   "cell_type": "markdown",
   "metadata": {},
   "source": [
    "## Git fetch/pull<a name=\"id10\"></a>\n",
    "- `git pull <remote>`\n",
    "- `git pull <origin> <master>`\n",
    "- `git pull --all`\n",
    "- `git fetch <remote>`\n",
    "- `git fetch <origin> <master>`\n",
    "- `git fetch --all`"
   ]
  },
  {
   "cell_type": "markdown",
   "metadata": {},
   "source": [
    "## Git push<a name=\"id11\"></a>\n",
    "- `git push -u <remote_name> <local_branch_name>`\n",
    "- `git push -u <origin> <master>`\n",
    "- `git push --tags`\n",
    "- `git push <origin> :<rama-x>`\n",
    "- `git push –-force <origin> <master>`\n"
   ]
  },
  {
   "cell_type": "markdown",
   "metadata": {},
   "source": [
    "## Git status<a name=\"id12\"></a>\n",
    "Sirve para ver el estado de los archivos\n",
    "- `git status`\n",
    "- `git status  -s`\n",
    "- `git status –s -b`\n"
   ]
  },
  {
   "cell_type": "markdown",
   "metadata": {},
   "source": [
    "## Git log<a name=\"id13\"></a>\n",
    "Sirve para ver los logs de git\n",
    "\n",
    "- `git log`\n",
    "- `git log --oneline --decorate --all --graph`"
   ]
  },
  {
   "cell_type": "markdown",
   "metadata": {},
   "source": [
    "## Git tag<a name=\"id14\"></a>\n",
    "- `git tag`\n",
    "- `git tag <nombreRelease>`\n",
    "- `git tag –d <nombreRelease>`\n",
    "- `git tag -a <v1.0.0> -m “<Versión 1.0.0>”`\n",
    "- `git tag -a <v0.1.0> <numeroCommit> -m “<Version alfa>”`\n",
    "- `git show <v1.0.0>`\n"
   ]
  },
  {
   "cell_type": "markdown",
   "metadata": {},
   "source": [
    "## Git diff<a name=\"id15\"></a>\n",
    "- `git diff`\n",
    "- `git diff --staged`\n",
    "- `git diff <nueva-rama> <master>`\n"
   ]
  },
  {
   "cell_type": "markdown",
   "metadata": {},
   "source": [
    "## Git mv/rm<a name=\"id16\"></a>\n",
    "Comandos para mover, cambiar de nombre o remover archivos del repositorio.\n",
    "- `git mv <destruir-mundo.txt> <salvar-mundo.txt>`\n",
    "- `git rm <salvar-mundo.txt>`"
   ]
  },
  {
   "cell_type": "markdown",
   "metadata": {},
   "source": [
    "## Git .ignore<a name=\"id17\"></a>\n",
    "Ignorar archivos o carpetas que no queremos modificar con git\n",
    "\n",
    "- Crear archivo con nombre .gitignore\n",
    "- Escribir en archivo creado los nombres de archivos a ignorar.\n",
    "\n",
    "    - *.log\n",
    "    - Carpeta/carp/\n"
   ]
  },
  {
   "cell_type": "markdown",
   "metadata": {},
   "source": [
    "## Git version<a name=\"id18\"></a>\n",
    "`git version`"
   ]
  },
  {
   "cell_type": "markdown",
   "metadata": {},
   "source": [
    "## Git stash<a name=\"id19\"></a>\n",
    "\n",
    "#### Enviar un grupo de rama al stash\n",
    "- `git stash`\n",
    "- `git stash save`\n",
    "- `git stash save --keep-index`\n",
    "- `git stash save --include-untracked`\n",
    "- `git stash save “<Agregamos a loki en los villanos>”`\n",
    "\n",
    "#### Mostrar lista de stash\n",
    "- `git stash list`\n",
    "- `git stash list --stat`\n",
    "\n",
    "#### Saca y elimina ultimo elemento del stash\n",
    "- `git stash pop`\n",
    "- `git stash apply stash@{1}`\n",
    "\n",
    "#### Elimina stash\n",
    "- `git stash drop`\n",
    "- `git stash drop stash@{2}`\n",
    "\n",
    "#### Borra todas las entradas en el stash\n",
    "- `git stash clear`"
   ]
  },
  {
   "cell_type": "markdown",
   "metadata": {},
   "source": [
    "### Git reset<a name=\"id20\"></a>\n",
    "Deshacer cambios realizados en el repositorio\n",
    "- `git reset *.xml`\n",
    "- `git reset HEAD <README.md>`\n",
    "- `git reset --soft HEAD^`\n",
    "- `git reset --mixed <860c6c2>`\n",
    "- `git reset --hard <860c6c2>`\n",
    "- `git reflog`\n"
   ]
  },
  {
   "cell_type": "markdown",
   "metadata": {},
   "source": [
    "### Git rebase<a name=\"id21\"></a>\n",
    "##### Mueve ramas a posición indicada\n",
    "- `git rebase master`\n",
    "- `git rebase --i HEAD~3`\n"
   ]
  },
  {
   "cell_type": "markdown",
   "metadata": {},
   "source": [
    "### Git help<a name=\"id22\"></a>\n",
    "`git help`"
   ]
  }
 ],
 "metadata": {
  "kernelspec": {
   "display_name": "Python 3",
   "language": "python",
   "name": "python3"
  },
  "language_info": {
   "codemirror_mode": {
    "name": "ipython",
    "version": 3
   },
   "file_extension": ".py",
   "mimetype": "text/x-python",
   "name": "python",
   "nbconvert_exporter": "python",
   "pygments_lexer": "ipython3",
   "version": "3.7.6"
  }
 },
 "nbformat": 4,
 "nbformat_minor": 4
}
